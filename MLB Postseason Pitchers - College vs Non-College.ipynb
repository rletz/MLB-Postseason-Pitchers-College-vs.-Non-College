{
 "cells": [
  {
   "cell_type": "markdown",
   "metadata": {},
   "source": [
    "# MLB Postseason Pitcher Analysis - High School vs. College"
   ]
  },
  {
   "cell_type": "markdown",
   "metadata": {},
   "source": [
    "Thousands of high school students enroll into colleges across the country every year in hopes of gaining an education to prepare them to enter a field they are interested in. Some of these students enrolling also gain collegiate experience into a different kind of field: a baseball field.\n",
    "\n",
    "It has been reported that the living accomodations and diet of minor league baseball players is not always the best (this has come a long way over the years, however). On the other hand, collegiate baseball players benefit from being in programs with nutrition and strength training regimens and even, in some cases, next-gen technology to further develop skills. With that said, the purpose of this analysis is to determine if pitchers who chose to attend college fare better in the MLB Postseason (from 2010 to 2019) than those who decided to go professional right out of high school.\n",
    "\n",
    "This data was pulled from a query run in SQL from data in the Sean Lahman Baseball Database. The data in this analysis comes from every MLB Postseason game played from 2010 to 2019. This date range was chosen to provide a sense of recency with the data. *Please note that the 2020 season is not in this analysis due to not being included in the database used. It may be beneficial not to include the 2020 season due to its unusual nature and limited number of games (COVID-19).*\n",
    "\n",
    "To qualify, pitchers must have thrown at least 3 postseason innings. This innings threshold eliminates the occurrence of position players throwing an inning in the event of blowout games to preserve the bullpen. The pitchers who qualified then had their postseason stats in the time frame compiled individually, as seen in the data preview below.\n",
    "\n",
    "The pitchers in this analysis are not limited to those from the United States. Players from countries outside of the US will be included, regardless of whether or not they attended college."
   ]
  },
  {
   "cell_type": "code",
   "execution_count": 1,
   "metadata": {},
   "outputs": [],
   "source": [
    "#importing\n",
    "\n",
    "import pandas as pd\n",
    "import numpy as np\n",
    "import matplotlib.pyplot as plt"
   ]
  },
  {
   "cell_type": "code",
   "execution_count": 2,
   "metadata": {
    "scrolled": false
   },
   "outputs": [
    {
     "data": {
      "text/html": [
       "<div>\n",
       "<style scoped>\n",
       "    .dataframe tbody tr th:only-of-type {\n",
       "        vertical-align: middle;\n",
       "    }\n",
       "\n",
       "    .dataframe tbody tr th {\n",
       "        vertical-align: top;\n",
       "    }\n",
       "\n",
       "    .dataframe thead th {\n",
       "        text-align: right;\n",
       "    }\n",
       "</style>\n",
       "<table border=\"1\" class=\"dataframe\">\n",
       "  <thead>\n",
       "    <tr style=\"text-align: right;\">\n",
       "      <th></th>\n",
       "      <th>Name</th>\n",
       "      <th>College</th>\n",
       "      <th>ERA</th>\n",
       "      <th>Batting_Avg</th>\n",
       "      <th>Strikeouts</th>\n",
       "      <th>Innings_Pitched</th>\n",
       "      <th>Walks_Allowed</th>\n",
       "      <th>Hits_Allowed</th>\n",
       "      <th>Homeruns_Allowed</th>\n",
       "      <th>Int_Walks_Allowed</th>\n",
       "      <th>Hit_Batters</th>\n",
       "      <th>Games</th>\n",
       "      <th>Games_Started</th>\n",
       "    </tr>\n",
       "  </thead>\n",
       "  <tbody>\n",
       "    <tr>\n",
       "      <th>0</th>\n",
       "      <td>A. J. Burnett</td>\n",
       "      <td>NaN</td>\n",
       "      <td>4.55</td>\n",
       "      <td>0.237</td>\n",
       "      <td>7</td>\n",
       "      <td>11</td>\n",
       "      <td>7</td>\n",
       "      <td>10</td>\n",
       "      <td>2</td>\n",
       "      <td>2</td>\n",
       "      <td>1</td>\n",
       "      <td>2</td>\n",
       "      <td>2</td>\n",
       "    </tr>\n",
       "    <tr>\n",
       "      <th>1</th>\n",
       "      <td>A. J. Griffin</td>\n",
       "      <td>University of San Diego</td>\n",
       "      <td>3.60</td>\n",
       "      <td>0.350</td>\n",
       "      <td>4</td>\n",
       "      <td>20</td>\n",
       "      <td>0</td>\n",
       "      <td>28</td>\n",
       "      <td>4</td>\n",
       "      <td>0</td>\n",
       "      <td>0</td>\n",
       "      <td>4</td>\n",
       "      <td>4</td>\n",
       "    </tr>\n",
       "    <tr>\n",
       "      <th>2</th>\n",
       "      <td>Aaron Sanchez</td>\n",
       "      <td>NaN</td>\n",
       "      <td>3.68</td>\n",
       "      <td>0.141</td>\n",
       "      <td>16</td>\n",
       "      <td>16</td>\n",
       "      <td>7</td>\n",
       "      <td>8</td>\n",
       "      <td>2</td>\n",
       "      <td>0</td>\n",
       "      <td>0</td>\n",
       "      <td>7</td>\n",
       "      <td>2</td>\n",
       "    </tr>\n",
       "    <tr>\n",
       "      <th>3</th>\n",
       "      <td>Adam Wainwright</td>\n",
       "      <td>NaN</td>\n",
       "      <td>3.76</td>\n",
       "      <td>0.253</td>\n",
       "      <td>93</td>\n",
       "      <td>86</td>\n",
       "      <td>15</td>\n",
       "      <td>85</td>\n",
       "      <td>9</td>\n",
       "      <td>1</td>\n",
       "      <td>1</td>\n",
       "      <td>17</td>\n",
       "      <td>13</td>\n",
       "    </tr>\n",
       "    <tr>\n",
       "      <th>4</th>\n",
       "      <td>Adam Warren</td>\n",
       "      <td>University of North Carolina at Chapel Hill</td>\n",
       "      <td>0.00</td>\n",
       "      <td>0.000</td>\n",
       "      <td>4</td>\n",
       "      <td>12</td>\n",
       "      <td>4</td>\n",
       "      <td>0</td>\n",
       "      <td>0</td>\n",
       "      <td>0</td>\n",
       "      <td>0</td>\n",
       "      <td>8</td>\n",
       "      <td>0</td>\n",
       "    </tr>\n",
       "  </tbody>\n",
       "</table>\n",
       "</div>"
      ],
      "text/plain": [
       "              Name                                      College   ERA  \\\n",
       "0    A. J. Burnett                                          NaN  4.55   \n",
       "1    A. J. Griffin                      University of San Diego  3.60   \n",
       "2    Aaron Sanchez                                          NaN  3.68   \n",
       "3  Adam Wainwright                                          NaN  3.76   \n",
       "4      Adam Warren  University of North Carolina at Chapel Hill  0.00   \n",
       "\n",
       "   Batting_Avg  Strikeouts  Innings_Pitched  Walks_Allowed  Hits_Allowed  \\\n",
       "0        0.237           7               11              7            10   \n",
       "1        0.350           4               20              0            28   \n",
       "2        0.141          16               16              7             8   \n",
       "3        0.253          93               86             15            85   \n",
       "4        0.000           4               12              4             0   \n",
       "\n",
       "   Homeruns_Allowed  Int_Walks_Allowed  Hit_Batters  Games  Games_Started  \n",
       "0                 2                  2            1      2              2  \n",
       "1                 4                  0            0      4              4  \n",
       "2                 2                  0            0      7              2  \n",
       "3                 9                  1            1     17             13  \n",
       "4                 0                  0            0      8              0  "
      ]
     },
     "execution_count": 2,
     "metadata": {},
     "output_type": "execute_result"
    }
   ],
   "source": [
    "#read file\n",
    "\n",
    "data = pd.read_csv('C:/Users/Ryan/Desktop/Baseball Analysis Projects/MLB Postseason Pitcher Stats 2010 to 2019.csv')\n",
    "\n",
    "data.head(5) #preview file"
   ]
  },
  {
   "cell_type": "code",
   "execution_count": 3,
   "metadata": {},
   "outputs": [
    {
     "data": {
      "text/plain": [
       "(320, 13)"
      ]
     },
     "execution_count": 3,
     "metadata": {},
     "output_type": "execute_result"
    }
   ],
   "source": [
    "data.shape #use to get number of rows to validate player count"
   ]
  },
  {
   "cell_type": "markdown",
   "metadata": {},
   "source": [
    "## Cleaning Data\n",
    "\n",
    "With our data now read in, we need to do some cleaning up.\n",
    "\n",
    "We will start with filling in any null values in the College column to say \"Non-College\", then create a column called \"School_Level\" to output whether a pitcher attended college or not."
   ]
  },
  {
   "cell_type": "code",
   "execution_count": 4,
   "metadata": {},
   "outputs": [],
   "source": [
    "#fill null values in College column to 'High School'\n",
    "\n",
    "data['College'] = data['College'].fillna('Non-College')\n",
    "\n",
    "data = data.rename(columns = {'College':'School'}) #rename College column to School to reflect changes"
   ]
  },
  {
   "cell_type": "code",
   "execution_count": 5,
   "metadata": {
    "scrolled": true
   },
   "outputs": [],
   "source": [
    "#create schooling level column\n",
    "\n",
    "data['School_Level'] = np.where(data['School'] == 'Non-College', 'Non-College', 'College')"
   ]
  },
  {
   "cell_type": "code",
   "execution_count": 6,
   "metadata": {},
   "outputs": [],
   "source": [
    "#reorganize columns and remove columns not needed for this analysis\n",
    "\n",
    "data = data[['Name', 'School', 'School_Level', 'ERA', 'Batting_Avg', 'Innings_Pitched', 'Games', 'Games_Started']]"
   ]
  },
  {
   "cell_type": "code",
   "execution_count": 7,
   "metadata": {
    "scrolled": true
   },
   "outputs": [
    {
     "data": {
      "text/html": [
       "<div>\n",
       "<style scoped>\n",
       "    .dataframe tbody tr th:only-of-type {\n",
       "        vertical-align: middle;\n",
       "    }\n",
       "\n",
       "    .dataframe tbody tr th {\n",
       "        vertical-align: top;\n",
       "    }\n",
       "\n",
       "    .dataframe thead th {\n",
       "        text-align: right;\n",
       "    }\n",
       "</style>\n",
       "<table border=\"1\" class=\"dataframe\">\n",
       "  <thead>\n",
       "    <tr style=\"text-align: right;\">\n",
       "      <th></th>\n",
       "      <th>Name</th>\n",
       "      <th>School</th>\n",
       "      <th>School_Level</th>\n",
       "      <th>ERA</th>\n",
       "      <th>Batting_Avg</th>\n",
       "      <th>Innings_Pitched</th>\n",
       "      <th>Games</th>\n",
       "      <th>Games_Started</th>\n",
       "    </tr>\n",
       "  </thead>\n",
       "  <tbody>\n",
       "    <tr>\n",
       "      <th>0</th>\n",
       "      <td>A. J. Burnett</td>\n",
       "      <td>Non-College</td>\n",
       "      <td>Non-College</td>\n",
       "      <td>4.55</td>\n",
       "      <td>0.237</td>\n",
       "      <td>11</td>\n",
       "      <td>2</td>\n",
       "      <td>2</td>\n",
       "    </tr>\n",
       "    <tr>\n",
       "      <th>1</th>\n",
       "      <td>A. J. Griffin</td>\n",
       "      <td>University of San Diego</td>\n",
       "      <td>College</td>\n",
       "      <td>3.60</td>\n",
       "      <td>0.350</td>\n",
       "      <td>20</td>\n",
       "      <td>4</td>\n",
       "      <td>4</td>\n",
       "    </tr>\n",
       "    <tr>\n",
       "      <th>2</th>\n",
       "      <td>Aaron Sanchez</td>\n",
       "      <td>Non-College</td>\n",
       "      <td>Non-College</td>\n",
       "      <td>3.68</td>\n",
       "      <td>0.141</td>\n",
       "      <td>16</td>\n",
       "      <td>7</td>\n",
       "      <td>2</td>\n",
       "    </tr>\n",
       "    <tr>\n",
       "      <th>3</th>\n",
       "      <td>Adam Wainwright</td>\n",
       "      <td>Non-College</td>\n",
       "      <td>Non-College</td>\n",
       "      <td>3.76</td>\n",
       "      <td>0.253</td>\n",
       "      <td>86</td>\n",
       "      <td>17</td>\n",
       "      <td>13</td>\n",
       "    </tr>\n",
       "    <tr>\n",
       "      <th>4</th>\n",
       "      <td>Adam Warren</td>\n",
       "      <td>University of North Carolina at Chapel Hill</td>\n",
       "      <td>College</td>\n",
       "      <td>0.00</td>\n",
       "      <td>0.000</td>\n",
       "      <td>12</td>\n",
       "      <td>8</td>\n",
       "      <td>0</td>\n",
       "    </tr>\n",
       "  </tbody>\n",
       "</table>\n",
       "</div>"
      ],
      "text/plain": [
       "              Name                                       School School_Level  \\\n",
       "0    A. J. Burnett                                  Non-College  Non-College   \n",
       "1    A. J. Griffin                      University of San Diego      College   \n",
       "2    Aaron Sanchez                                  Non-College  Non-College   \n",
       "3  Adam Wainwright                                  Non-College  Non-College   \n",
       "4      Adam Warren  University of North Carolina at Chapel Hill      College   \n",
       "\n",
       "    ERA  Batting_Avg  Innings_Pitched  Games  Games_Started  \n",
       "0  4.55        0.237               11      2              2  \n",
       "1  3.60        0.350               20      4              4  \n",
       "2  3.68        0.141               16      7              2  \n",
       "3  3.76        0.253               86     17             13  \n",
       "4  0.00        0.000               12      8              0  "
      ]
     },
     "execution_count": 7,
     "metadata": {},
     "output_type": "execute_result"
    }
   ],
   "source": [
    "data.head(5)"
   ]
  },
  {
   "cell_type": "markdown",
   "metadata": {},
   "source": [
    "## Grouping\n",
    "\n",
    "Now we will group by schooling level, then create a new DataFrame based on statistics we want for each group."
   ]
  },
  {
   "cell_type": "code",
   "execution_count": 8,
   "metadata": {},
   "outputs": [],
   "source": [
    "#grouping by school_level\n",
    "\n",
    "school = data.groupby('School_Level')"
   ]
  },
  {
   "cell_type": "code",
   "execution_count": 9,
   "metadata": {
    "scrolled": true
   },
   "outputs": [],
   "source": [
    "#create function to plug column and get average rounded to specified decimals\n",
    "\n",
    "def group_result(col, places):\n",
    "    return round(school[col].mean(), places)"
   ]
  },
  {
   "cell_type": "code",
   "execution_count": 10,
   "metadata": {},
   "outputs": [],
   "source": [
    "#getting group averages of each category\n",
    "\n",
    "player_count = school['Name'].count() #count of high school and college pitchers total by group\n",
    "\n",
    "era = group_result('ERA', 2)\n",
    "batt_avg = group_result('Batting_Avg', 3)\n",
    "innings = group_result('Innings_Pitched', 1)\n",
    "games = group_result('Games', 1)\n",
    "starts = group_result('Games_Started', 1)"
   ]
  },
  {
   "cell_type": "code",
   "execution_count": 11,
   "metadata": {},
   "outputs": [],
   "source": [
    "#create dataframe of results\n",
    "\n",
    "df = pd.DataFrame([player_count, era, batt_avg, innings, games, starts]).transpose()"
   ]
  },
  {
   "cell_type": "code",
   "execution_count": 12,
   "metadata": {},
   "outputs": [],
   "source": [
    "df = df.rename(columns = {'Name':'Count'})"
   ]
  },
  {
   "cell_type": "markdown",
   "metadata": {},
   "source": [
    "## Table of Results by Group"
   ]
  },
  {
   "cell_type": "code",
   "execution_count": 13,
   "metadata": {
    "scrolled": true
   },
   "outputs": [
    {
     "data": {
      "text/html": [
       "<div>\n",
       "<style scoped>\n",
       "    .dataframe tbody tr th:only-of-type {\n",
       "        vertical-align: middle;\n",
       "    }\n",
       "\n",
       "    .dataframe tbody tr th {\n",
       "        vertical-align: top;\n",
       "    }\n",
       "\n",
       "    .dataframe thead th {\n",
       "        text-align: right;\n",
       "    }\n",
       "</style>\n",
       "<table border=\"1\" class=\"dataframe\">\n",
       "  <thead>\n",
       "    <tr style=\"text-align: right;\">\n",
       "      <th></th>\n",
       "      <th>Count</th>\n",
       "      <th>ERA</th>\n",
       "      <th>Batting_Avg</th>\n",
       "      <th>Innings_Pitched</th>\n",
       "      <th>Games</th>\n",
       "      <th>Games_Started</th>\n",
       "    </tr>\n",
       "    <tr>\n",
       "      <th>School_Level</th>\n",
       "      <th></th>\n",
       "      <th></th>\n",
       "      <th></th>\n",
       "      <th></th>\n",
       "      <th></th>\n",
       "      <th></th>\n",
       "    </tr>\n",
       "  </thead>\n",
       "  <tbody>\n",
       "    <tr>\n",
       "      <th>College</th>\n",
       "      <td>126.0</td>\n",
       "      <td>3.01</td>\n",
       "      <td>0.200</td>\n",
       "      <td>48.6</td>\n",
       "      <td>18.0</td>\n",
       "      <td>6.6</td>\n",
       "    </tr>\n",
       "    <tr>\n",
       "      <th>Non-College</th>\n",
       "      <td>194.0</td>\n",
       "      <td>3.34</td>\n",
       "      <td>0.209</td>\n",
       "      <td>15.0</td>\n",
       "      <td>5.8</td>\n",
       "      <td>1.9</td>\n",
       "    </tr>\n",
       "  </tbody>\n",
       "</table>\n",
       "</div>"
      ],
      "text/plain": [
       "              Count   ERA  Batting_Avg  Innings_Pitched  Games  Games_Started\n",
       "School_Level                                                                 \n",
       "College       126.0  3.01        0.200             48.6   18.0            6.6\n",
       "Non-College   194.0  3.34        0.209             15.0    5.8            1.9"
      ]
     },
     "execution_count": 13,
     "metadata": {},
     "output_type": "execute_result"
    }
   ],
   "source": [
    "df #providing table of results for viewing"
   ]
  },
  {
   "cell_type": "markdown",
   "metadata": {},
   "source": [
    "## Postseason Total Pitcher Count"
   ]
  },
  {
   "cell_type": "code",
   "execution_count": 18,
   "metadata": {},
   "outputs": [
    {
     "data": {
      "image/png": "[encoded data removed]",
      "text/plain": [
       "<Figure size 720x576 with 1 Axes>"
      ]
     },
     "metadata": {},
     "output_type": "display_data"
    }
   ],
   "source": [
    "colors = ['blue', 'green'] #set colors for bars\n",
    "\n",
    "player_count.plot.bar(title = 'MLB Postseason Pitcher Count by School Level: 2010 - 2019', rot=0, figsize = (10,8),\n",
    "                      color = colors)\n",
    "plt.style.use('fivethirtyeight')\n",
    "plt.xlabel('')\n",
    "plt.ylabel('Player Count')\n",
    "plt.show()"
   ]
  },
  {
   "cell_type": "markdown",
   "metadata": {},
   "source": [
    "## Postseason Innings Pitched"
   ]
  },
  {
   "cell_type": "code",
   "execution_count": 15,
   "metadata": {
    "scrolled": false
   },
   "outputs": [
    {
     "data": {
      "image/png": "[encoded data removed]",
      "text/plain": [
       "<Figure size 720x576 with 1 Axes>"
      ]
     },
     "metadata": {},
     "output_type": "display_data"
    }
   ],
   "source": [
    "innings.plot.bar(title = 'Average Postseason Innings Pitched: 2010 - 2019', rot = 0, figsize = (10,8), color = colors)\n",
    "plt.style.use('fivethirtyeight')\n",
    "plt.xlabel('')\n",
    "plt.ylabel('Innings')\n",
    "plt.show()"
   ]
  },
  {
   "cell_type": "markdown",
   "metadata": {},
   "source": [
    "## Postseason Appearances"
   ]
  },
  {
   "cell_type": "code",
   "execution_count": 16,
   "metadata": {
    "scrolled": false
   },
   "outputs": [
    {
     "data": {
      "image/png": "[encoded data removed]",
      "text/plain": [
       "<Figure size 720x576 with 1 Axes>"
      ]
     },
     "metadata": {},
     "output_type": "display_data"
    }
   ],
   "source": [
    "games.plot.bar(title = 'Average Postseason Appearances: 2010 - 2019', rot=0, figsize = (10,8), color = colors)\n",
    "plt.style.use('fivethirtyeight')\n",
    "plt.xlabel('')\n",
    "plt.ylabel(\"Appearances\")\n",
    "plt.show()"
   ]
  },
  {
   "cell_type": "markdown",
   "metadata": {},
   "source": [
    "## Postseason Starts"
   ]
  },
  {
   "cell_type": "code",
   "execution_count": 17,
   "metadata": {
    "scrolled": false
   },
   "outputs": [
    {
     "data": {
      "image/png": "[encoded data removed]",
      "text/plain": [
       "<Figure size 720x576 with 1 Axes>"
      ]
     },
     "metadata": {},
     "output_type": "display_data"
    }
   ],
   "source": [
    "starts.plot.bar(title = 'Average Postseason Starts: 2010 - 2019', rot=0, figsize = (10,8), color = colors)\n",
    "plt.style.use('fivethirtyeight')\n",
    "plt.xlabel('')\n",
    "plt.ylabel('Starts')\n",
    "plt.show()"
   ]
  },
  {
   "cell_type": "markdown",
   "metadata": {},
   "source": [
    "## Analysis\n",
    "\n",
    "\n",
    "\n",
    "After reviewing the results, there are a few points to be made. While high school level pitchers outnumber their college counterparts by a decent number, any edge they have appears to end there.\n",
    "\n",
    "Perhaps the most surprising results from this analysis comes from the innings pitched, game appearances and games        started categories. Despite being outnumbered, the difference in favor of college pitchers is significant. The average collegiate level pitcher outperforms their counterparts by **more than three times** in each of these categories.\n",
    "\n",
    "This could infer that pitchers coming from college are better prepared to log a higher workload than those coming right from high school (in the form of starting games). It could also mean that they are better equipped to handle the pressures that come with every pitch in postseason baseball by playing at the collegiate level.\n",
    "\n",
    "MLB pitchers from college average a slightly lower postseason opponent batting average statistic, and show a slightly larger edge in ERA. This is worth noting because we know that college level pitchers throw more innings, appear in more games and make more starts in recent postseasons. \n",
    "\n",
    "For the college group to showcase better numbers while playing three times more in the biggest stages of the game is impressive."
   ]
  }
 ],
 "metadata": {
  "kernelspec": {
   "display_name": "Python 3",
   "language": "python",
   "name": "python3"
  },
  "language_info": {
   "codemirror_mode": {
    "name": "ipython",
    "version": 3
   },
   "file_extension": ".py",
   "mimetype": "text/x-python",
   "name": "python",
   "nbconvert_exporter": "python",
   "pygments_lexer": "ipython3",
   "version": "3.8.5"
  }
 },
 "nbformat": 4,
 "nbformat_minor": 4
}
